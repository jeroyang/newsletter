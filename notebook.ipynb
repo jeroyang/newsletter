{
 "cells": [
  {
   "cell_type": "code",
   "execution_count": 120,
   "metadata": {
    "collapsed": false
   },
   "outputs": [],
   "source": [
    "import re\n",
    "\n",
    "CONTAINER = r'(?P<pattern>{})'\n",
    "ARG_PATTERN = CONTAINER.format('\\{\\{(?P<arg>.*?)\\}\\}')\n",
    "IN_EX_PATTERN = r'{}|(.)'.format(ARG_PATTERN)\n",
    "\n",
    "template = 'Test\\n{{one}}\\ntest\\n{{two}}\\n{{two}}'\n",
    "it = re.finditer(ARG_PATTERN, template)"
   ]
  },
  {
   "cell_type": "code",
   "execution_count": 121,
   "metadata": {
    "collapsed": false
   },
   "outputs": [
    {
     "data": {
      "text/plain": [
       "[('{{one}}', 'one'), ('{{two}}', 'two'), ('{{two}}', 'two')]"
      ]
     },
     "execution_count": 121,
     "metadata": {},
     "output_type": "execute_result"
    }
   ],
   "source": [
    "re.findall(ARG_PATTERN, template)"
   ]
  },
  {
   "cell_type": "code",
   "execution_count": 122,
   "metadata": {
    "collapsed": true
   },
   "outputs": [],
   "source": [
    "def extract_args(template):\n",
    "\t\"\"\"\n",
    "\tFrom given template, find all |arguments| inside.\n",
    "\t\"\"\"\n",
    "\treturn {match.groupdict()['arg'] for match in re.finditer(ARG_PATTERN, template)}"
   ]
  },
  {
   "cell_type": "code",
   "execution_count": 123,
   "metadata": {
    "collapsed": false
   },
   "outputs": [
    {
     "data": {
      "text/plain": [
       "{'one', 'two'}"
      ]
     },
     "execution_count": 123,
     "metadata": {},
     "output_type": "execute_result"
    }
   ],
   "source": [
    "extract_args(template)"
   ]
  },
  {
   "cell_type": "code",
   "execution_count": null,
   "metadata": {
    "collapsed": false
   },
   "outputs": [],
   "source": []
  },
  {
   "cell_type": "code",
   "execution_count": 124,
   "metadata": {
    "collapsed": false
   },
   "outputs": [
    {
     "data": {
      "text/plain": [
       "[('', '', 'T'),\n",
       " ('', '', 'e'),\n",
       " ('', '', 's'),\n",
       " ('', '', 't'),\n",
       " ('', '', '\\n'),\n",
       " ('{{one}}', 'one', ''),\n",
       " ('', '', '\\n'),\n",
       " ('', '', 't'),\n",
       " ('', '', 'e'),\n",
       " ('', '', 's'),\n",
       " ('', '', 't'),\n",
       " ('', '', '\\n'),\n",
       " ('{{two}}', 'two', ''),\n",
       " ('', '', '\\n'),\n",
       " ('{{two}}', 'two', '')]"
      ]
     },
     "execution_count": 124,
     "metadata": {},
     "output_type": "execute_result"
    }
   ],
   "source": [
    "re.findall(IN_EX_PATTERN, template, re.DOTALL)"
   ]
  },
  {
   "cell_type": "code",
   "execution_count": 125,
   "metadata": {
    "collapsed": true
   },
   "outputs": [],
   "source": [
    "def build_text(template, arg2items):\n",
    "    \"\"\"\n",
    "    Make the output text based on template\n",
    "    \"\"\"\n",
    "    output = []\n",
    "    for matches in re.findall(IN_EX_PATTERN, template, re.DOTALL):\n",
    "        if matches[0] != '': # something to replace\n",
    "            output.append(arg2items[matches[1]].pop(0))\n",
    "        else:\n",
    "            output.append(matches[2])\n",
    "    return ''.join(output)"
   ]
  },
  {
   "cell_type": "code",
   "execution_count": 127,
   "metadata": {
    "collapsed": false
   },
   "outputs": [
    {
     "data": {
      "text/plain": [
       "'Test\\nbob\\ntest\\nkitty\\nbunny'"
      ]
     },
     "execution_count": 127,
     "metadata": {},
     "output_type": "execute_result"
    }
   ],
   "source": [
    "arg2items = {'one': ['bob', 'alice'],\n",
    "             'two': ['kitty', 'bunny']}\n",
    "build_text(template, arg2items)"
   ]
  },
  {
   "cell_type": "code",
   "execution_count": 116,
   "metadata": {
    "collapsed": false
   },
   "outputs": [
    {
     "data": {
      "text/plain": [
       "[('', '', 'Test'),\n",
       " ('{{one}}', 'one', ''),\n",
       " ('', '', 'test'),\n",
       " ('{{two}}', 'two', ''),\n",
       " ('{{two}}', 'two', '')]"
      ]
     },
     "execution_count": 116,
     "metadata": {},
     "output_type": "execute_result"
    }
   ],
   "source": [
    "re.findall(IN_EX_PATTERN, template)"
   ]
  },
  {
   "cell_type": "code",
   "execution_count": 88,
   "metadata": {
    "collapsed": false
   },
   "outputs": [
    {
     "data": {
      "text/plain": [
       "'(?P<pattern>\\\\|(?P<arg>\\\\S*?)\\\\|)|(.+)'"
      ]
     },
     "execution_count": 88,
     "metadata": {},
     "output_type": "execute_result"
    }
   ],
   "source": [
    "IN_EX_PATTERN"
   ]
  },
  {
   "cell_type": "code",
   "execution_count": 119,
   "metadata": {
    "collapsed": false
   },
   "outputs": [
    {
     "data": {
      "text/plain": [
       "[('', 'f'),\n",
       " ('', 'i'),\n",
       " ('', 'r'),\n",
       " ('', 'e'),\n",
       " ('fox', ''),\n",
       " ('', ' '),\n",
       " ('', 'i'),\n",
       " ('', 's'),\n",
       " ('', ' '),\n",
       " ('', 'n'),\n",
       " ('', 'o'),\n",
       " ('', 't'),\n",
       " ('', ' '),\n",
       " ('', 'a'),\n",
       " ('', ' '),\n",
       " ('fox', '')]"
      ]
     },
     "execution_count": 119,
     "metadata": {},
     "output_type": "execute_result"
    }
   ],
   "source": [
    "s = 'firefox is not a fox'\n",
    "p = r'(fox)|(.)'\n",
    "re.findall(p, s)"
   ]
  },
  {
   "cell_type": "code",
   "execution_count": 56,
   "metadata": {
    "collapsed": false
   },
   "outputs": [
    {
     "data": {
      "text/plain": [
       "'\\nTest\\n\\n|one|\\ntest\\n|two|\\n|two|\\n'"
      ]
     },
     "execution_count": 56,
     "metadata": {},
     "output_type": "execute_result"
    }
   ],
   "source": [
    "\"\"\"\n",
    "Test\n",
    "\n",
    "|one|\n",
    "test\n",
    "|two|\n",
    "|two|\n",
    "\"\"\""
   ]
  },
  {
   "cell_type": "code",
   "execution_count": null,
   "metadata": {
    "collapsed": true
   },
   "outputs": [],
   "source": []
  }
 ],
 "metadata": {
  "kernelspec": {
   "display_name": "Python 3",
   "language": "python",
   "name": "python3"
  },
  "language_info": {
   "codemirror_mode": {
    "name": "ipython",
    "version": 3
   },
   "file_extension": ".py",
   "mimetype": "text/x-python",
   "name": "python",
   "nbconvert_exporter": "python",
   "pygments_lexer": "ipython3",
   "version": "3.4.3"
  }
 },
 "nbformat": 4,
 "nbformat_minor": 0
}
